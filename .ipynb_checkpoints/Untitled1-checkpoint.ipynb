{
 "cells": [
  {
   "cell_type": "code",
   "execution_count": 1,
   "metadata": {},
   "outputs": [],
   "source": [
    "import pandas as pd\n",
    "import numpy as np\n",
    "from matplotlib import pyplot as plt\n",
    "import seaborn as sns\n",
    "import calendar\n",
    "sns.set()"
   ]
  },
  {
   "cell_type": "code",
   "execution_count": 2,
   "metadata": {},
   "outputs": [
    {
     "name": "stdout",
     "output_type": "stream",
     "text": [
      "shape of 2014 data: (584, 8)\n",
      "shape of 2015 data: (584, 8)\n",
      "shape of 2016 data: (584, 8)\n",
      "shape of 2017 data: (584, 8)\n",
      "shape of 2018 data: (584, 8)\n",
      "shape of 2019 data: (584, 8)\n"
     ]
    }
   ],
   "source": [
    "df2014 = pd.read_csv('./data/2014.csv')\n",
    "df2015 = pd.read_csv('./data/2015.csv')\n",
    "df2016 = pd.read_csv('./data/2016.csv')\n",
    "df2017 = pd.read_csv('./data/2017.csv')\n",
    "df2018 = pd.read_csv('./data/2018.csv')\n",
    "df2019 = pd.read_csv('./data/2019.csv')\n",
    "print('shape of 2014 data:', df2014.shape)\n",
    "print('shape of 2015 data:', df2015.shape)\n",
    "print('shape of 2016 data:', df2016.shape)\n",
    "print('shape of 2017 data:', df2017.shape)\n",
    "print('shape of 2018 data:', df2018.shape)\n",
    "print('shape of 2019 data:', df2019.shape)"
   ]
  },
  {
   "cell_type": "code",
   "execution_count": 3,
   "metadata": {},
   "outputs": [],
   "source": [
    "df = pd.concat([df2014,df2015,df2016,df2017,df2018,df2019])"
   ]
  },
  {
   "cell_type": "code",
   "execution_count": 4,
   "metadata": {},
   "outputs": [
    {
     "data": {
      "text/plain": [
       "(3504, 8)"
      ]
     },
     "execution_count": 4,
     "metadata": {},
     "output_type": "execute_result"
    }
   ],
   "source": [
    "df.shape"
   ]
  },
  {
   "cell_type": "code",
   "execution_count": 5,
   "metadata": {},
   "outputs": [
    {
     "data": {
      "text/html": [
       "<div>\n",
       "<style scoped>\n",
       "    .dataframe tbody tr th:only-of-type {\n",
       "        vertical-align: middle;\n",
       "    }\n",
       "\n",
       "    .dataframe tbody tr th {\n",
       "        vertical-align: top;\n",
       "    }\n",
       "\n",
       "    .dataframe thead th {\n",
       "        text-align: right;\n",
       "    }\n",
       "</style>\n",
       "<table border=\"1\" class=\"dataframe\">\n",
       "  <thead>\n",
       "    <tr style=\"text-align: right;\">\n",
       "      <th></th>\n",
       "      <th>Any</th>\n",
       "      <th>Trimestre</th>\n",
       "      <th>Codi_Districte</th>\n",
       "      <th>Nom_Districte</th>\n",
       "      <th>Codi_Barri</th>\n",
       "      <th>Nom_Barri</th>\n",
       "      <th>Lloguer_mitja</th>\n",
       "      <th>Preu</th>\n",
       "    </tr>\n",
       "  </thead>\n",
       "  <tbody>\n",
       "    <tr>\n",
       "      <th>0</th>\n",
       "      <td>2014</td>\n",
       "      <td>1</td>\n",
       "      <td>1</td>\n",
       "      <td>Ciutat Vella</td>\n",
       "      <td>1</td>\n",
       "      <td>el Raval</td>\n",
       "      <td>Lloguer mitjà mensual (Euros/mes)</td>\n",
       "      <td>589.55</td>\n",
       "    </tr>\n",
       "    <tr>\n",
       "      <th>1</th>\n",
       "      <td>2014</td>\n",
       "      <td>1</td>\n",
       "      <td>1</td>\n",
       "      <td>Ciutat Vella</td>\n",
       "      <td>2</td>\n",
       "      <td>el Barri Gòtic</td>\n",
       "      <td>Lloguer mitjà mensual (Euros/mes)</td>\n",
       "      <td>712.79</td>\n",
       "    </tr>\n",
       "    <tr>\n",
       "      <th>2</th>\n",
       "      <td>2014</td>\n",
       "      <td>1</td>\n",
       "      <td>1</td>\n",
       "      <td>Ciutat Vella</td>\n",
       "      <td>3</td>\n",
       "      <td>la Barceloneta</td>\n",
       "      <td>Lloguer mitjà mensual (Euros/mes)</td>\n",
       "      <td>540.71</td>\n",
       "    </tr>\n",
       "    <tr>\n",
       "      <th>3</th>\n",
       "      <td>2014</td>\n",
       "      <td>1</td>\n",
       "      <td>1</td>\n",
       "      <td>Ciutat Vella</td>\n",
       "      <td>4</td>\n",
       "      <td>Sant Pere, Santa Caterina i la Ribera</td>\n",
       "      <td>Lloguer mitjà mensual (Euros/mes)</td>\n",
       "      <td>673.44</td>\n",
       "    </tr>\n",
       "    <tr>\n",
       "      <th>4</th>\n",
       "      <td>2014</td>\n",
       "      <td>1</td>\n",
       "      <td>2</td>\n",
       "      <td>Eixample</td>\n",
       "      <td>5</td>\n",
       "      <td>el Fort Pienc</td>\n",
       "      <td>Lloguer mitjà mensual (Euros/mes)</td>\n",
       "      <td>736.09</td>\n",
       "    </tr>\n",
       "  </tbody>\n",
       "</table>\n",
       "</div>"
      ],
      "text/plain": [
       "    Any  Trimestre  Codi_Districte Nom_Districte  Codi_Barri  \\\n",
       "0  2014          1               1  Ciutat Vella           1   \n",
       "1  2014          1               1  Ciutat Vella           2   \n",
       "2  2014          1               1  Ciutat Vella           3   \n",
       "3  2014          1               1  Ciutat Vella           4   \n",
       "4  2014          1               2      Eixample           5   \n",
       "\n",
       "                               Nom_Barri                      Lloguer_mitja  \\\n",
       "0                               el Raval  Lloguer mitjà mensual (Euros/mes)   \n",
       "1                         el Barri Gòtic  Lloguer mitjà mensual (Euros/mes)   \n",
       "2                         la Barceloneta  Lloguer mitjà mensual (Euros/mes)   \n",
       "3  Sant Pere, Santa Caterina i la Ribera  Lloguer mitjà mensual (Euros/mes)   \n",
       "4                          el Fort Pienc  Lloguer mitjà mensual (Euros/mes)   \n",
       "\n",
       "     Preu  \n",
       "0  589.55  \n",
       "1  712.79  \n",
       "2  540.71  \n",
       "3  673.44  \n",
       "4  736.09  "
      ]
     },
     "execution_count": 5,
     "metadata": {},
     "output_type": "execute_result"
    }
   ],
   "source": [
    "df.head()"
   ]
  },
  {
   "cell_type": "code",
   "execution_count": 6,
   "metadata": {},
   "outputs": [
    {
     "data": {
      "text/plain": [
       "Lloguer mitjà per superfície (Euros/m2 mes)    1752\n",
       "Lloguer mitjà mensual (Euros/mes)              1752\n",
       "Name: Lloguer_mitja, dtype: int64"
      ]
     },
     "execution_count": 6,
     "metadata": {},
     "output_type": "execute_result"
    }
   ],
   "source": [
    "df.Lloguer_mitja.value_counts()"
   ]
  },
  {
   "cell_type": "code",
   "execution_count": 7,
   "metadata": {},
   "outputs": [
    {
     "data": {
      "text/html": [
       "<div>\n",
       "<style scoped>\n",
       "    .dataframe tbody tr th:only-of-type {\n",
       "        vertical-align: middle;\n",
       "    }\n",
       "\n",
       "    .dataframe tbody tr th {\n",
       "        vertical-align: top;\n",
       "    }\n",
       "\n",
       "    .dataframe thead th {\n",
       "        text-align: right;\n",
       "    }\n",
       "</style>\n",
       "<table border=\"1\" class=\"dataframe\">\n",
       "  <thead>\n",
       "    <tr style=\"text-align: right;\">\n",
       "      <th></th>\n",
       "      <th>Any</th>\n",
       "      <th>Trimestre</th>\n",
       "      <th>Codi_Districte</th>\n",
       "      <th>Nom_Districte</th>\n",
       "      <th>Codi_Barri</th>\n",
       "      <th>Nom_Barri</th>\n",
       "      <th>Lloguer_mitja</th>\n",
       "      <th>Preu</th>\n",
       "    </tr>\n",
       "  </thead>\n",
       "  <tbody>\n",
       "    <tr>\n",
       "      <th>0</th>\n",
       "      <td>2014</td>\n",
       "      <td>1</td>\n",
       "      <td>1</td>\n",
       "      <td>Ciutat Vella</td>\n",
       "      <td>1</td>\n",
       "      <td>el Raval</td>\n",
       "      <td>Lloguer mitjà mensual (Euros/mes)</td>\n",
       "      <td>589.55</td>\n",
       "    </tr>\n",
       "    <tr>\n",
       "      <th>1</th>\n",
       "      <td>2014</td>\n",
       "      <td>1</td>\n",
       "      <td>1</td>\n",
       "      <td>Ciutat Vella</td>\n",
       "      <td>2</td>\n",
       "      <td>el Barri Gòtic</td>\n",
       "      <td>Lloguer mitjà mensual (Euros/mes)</td>\n",
       "      <td>712.79</td>\n",
       "    </tr>\n",
       "    <tr>\n",
       "      <th>2</th>\n",
       "      <td>2014</td>\n",
       "      <td>1</td>\n",
       "      <td>1</td>\n",
       "      <td>Ciutat Vella</td>\n",
       "      <td>3</td>\n",
       "      <td>la Barceloneta</td>\n",
       "      <td>Lloguer mitjà mensual (Euros/mes)</td>\n",
       "      <td>540.71</td>\n",
       "    </tr>\n",
       "    <tr>\n",
       "      <th>3</th>\n",
       "      <td>2014</td>\n",
       "      <td>1</td>\n",
       "      <td>1</td>\n",
       "      <td>Ciutat Vella</td>\n",
       "      <td>4</td>\n",
       "      <td>Sant Pere, Santa Caterina i la Ribera</td>\n",
       "      <td>Lloguer mitjà mensual (Euros/mes)</td>\n",
       "      <td>673.44</td>\n",
       "    </tr>\n",
       "    <tr>\n",
       "      <th>4</th>\n",
       "      <td>2014</td>\n",
       "      <td>1</td>\n",
       "      <td>2</td>\n",
       "      <td>Eixample</td>\n",
       "      <td>5</td>\n",
       "      <td>el Fort Pienc</td>\n",
       "      <td>Lloguer mitjà mensual (Euros/mes)</td>\n",
       "      <td>736.09</td>\n",
       "    </tr>\n",
       "  </tbody>\n",
       "</table>\n",
       "</div>"
      ],
      "text/plain": [
       "    Any  Trimestre  Codi_Districte Nom_Districte  Codi_Barri  \\\n",
       "0  2014          1               1  Ciutat Vella           1   \n",
       "1  2014          1               1  Ciutat Vella           2   \n",
       "2  2014          1               1  Ciutat Vella           3   \n",
       "3  2014          1               1  Ciutat Vella           4   \n",
       "4  2014          1               2      Eixample           5   \n",
       "\n",
       "                               Nom_Barri                      Lloguer_mitja  \\\n",
       "0                               el Raval  Lloguer mitjà mensual (Euros/mes)   \n",
       "1                         el Barri Gòtic  Lloguer mitjà mensual (Euros/mes)   \n",
       "2                         la Barceloneta  Lloguer mitjà mensual (Euros/mes)   \n",
       "3  Sant Pere, Santa Caterina i la Ribera  Lloguer mitjà mensual (Euros/mes)   \n",
       "4                          el Fort Pienc  Lloguer mitjà mensual (Euros/mes)   \n",
       "\n",
       "     Preu  \n",
       "0  589.55  \n",
       "1  712.79  \n",
       "2  540.71  \n",
       "3  673.44  \n",
       "4  736.09  "
      ]
     },
     "execution_count": 7,
     "metadata": {},
     "output_type": "execute_result"
    }
   ],
   "source": [
    "df2014.head()"
   ]
  },
  {
   "cell_type": "code",
   "execution_count": 25,
   "metadata": {},
   "outputs": [],
   "source": [
    "a = df2014.groupby('Lloguer_mitja').max()"
   ]
  },
  {
   "cell_type": "code",
   "execution_count": 26,
   "metadata": {},
   "outputs": [],
   "source": [
    "b =df2015.groupby('Lloguer_mitja').max()"
   ]
  },
  {
   "cell_type": "code",
   "execution_count": 27,
   "metadata": {},
   "outputs": [],
   "source": [
    "c = df2016.groupby('Lloguer_mitja').max()"
   ]
  },
  {
   "cell_type": "code",
   "execution_count": 28,
   "metadata": {},
   "outputs": [],
   "source": [
    "d = df2017.groupby('Lloguer_mitja').max()"
   ]
  },
  {
   "cell_type": "code",
   "execution_count": 29,
   "metadata": {},
   "outputs": [],
   "source": [
    "e = df2018.groupby('Lloguer_mitja').max()"
   ]
  },
  {
   "cell_type": "code",
   "execution_count": 30,
   "metadata": {},
   "outputs": [],
   "source": [
    "f = df2019.groupby('Lloguer_mitja').max()"
   ]
  },
  {
   "cell_type": "code",
   "execution_count": 31,
   "metadata": {},
   "outputs": [],
   "source": [
    "maximum_rent = pd.concat([a,b,c,d,e,f])"
   ]
  },
  {
   "cell_type": "code",
   "execution_count": 32,
   "metadata": {},
   "outputs": [
    {
     "data": {
      "text/html": [
       "<div>\n",
       "<style scoped>\n",
       "    .dataframe tbody tr th:only-of-type {\n",
       "        vertical-align: middle;\n",
       "    }\n",
       "\n",
       "    .dataframe tbody tr th {\n",
       "        vertical-align: top;\n",
       "    }\n",
       "\n",
       "    .dataframe thead th {\n",
       "        text-align: right;\n",
       "    }\n",
       "</style>\n",
       "<table border=\"1\" class=\"dataframe\">\n",
       "  <thead>\n",
       "    <tr style=\"text-align: right;\">\n",
       "      <th></th>\n",
       "      <th>Any</th>\n",
       "      <th>Trimestre</th>\n",
       "      <th>Codi_Districte</th>\n",
       "      <th>Nom_Districte</th>\n",
       "      <th>Codi_Barri</th>\n",
       "      <th>Nom_Barri</th>\n",
       "      <th>Preu</th>\n",
       "    </tr>\n",
       "    <tr>\n",
       "      <th>Lloguer_mitja</th>\n",
       "      <th></th>\n",
       "      <th></th>\n",
       "      <th></th>\n",
       "      <th></th>\n",
       "      <th></th>\n",
       "      <th></th>\n",
       "      <th></th>\n",
       "    </tr>\n",
       "  </thead>\n",
       "  <tbody>\n",
       "    <tr>\n",
       "      <th>Lloguer mitjà mensual (Euros/mes)</th>\n",
       "      <td>2014</td>\n",
       "      <td>4</td>\n",
       "      <td>10</td>\n",
       "      <td>Sarrià-Sant Gervasi</td>\n",
       "      <td>73</td>\n",
       "      <td>les Tres Torres</td>\n",
       "      <td>1762.06</td>\n",
       "    </tr>\n",
       "    <tr>\n",
       "      <th>Lloguer mitjà per superfície (Euros/m2 mes)</th>\n",
       "      <td>2014</td>\n",
       "      <td>4</td>\n",
       "      <td>10</td>\n",
       "      <td>Sarrià-Sant Gervasi</td>\n",
       "      <td>73</td>\n",
       "      <td>les Tres Torres</td>\n",
       "      <td>16.14</td>\n",
       "    </tr>\n",
       "    <tr>\n",
       "      <th>Lloguer mitjà mensual (Euros/mes)</th>\n",
       "      <td>2015</td>\n",
       "      <td>4</td>\n",
       "      <td>10</td>\n",
       "      <td>Sarrià-Sant Gervasi</td>\n",
       "      <td>73</td>\n",
       "      <td>les Tres Torres</td>\n",
       "      <td>2034.00</td>\n",
       "    </tr>\n",
       "    <tr>\n",
       "      <th>Lloguer mitjà per superfície (Euros/m2 mes)</th>\n",
       "      <td>2015</td>\n",
       "      <td>4</td>\n",
       "      <td>10</td>\n",
       "      <td>Sarrià-Sant Gervasi</td>\n",
       "      <td>73</td>\n",
       "      <td>les Tres Torres</td>\n",
       "      <td>17.00</td>\n",
       "    </tr>\n",
       "    <tr>\n",
       "      <th>Lloguer mitjà mensual (Euros/mes)</th>\n",
       "      <td>2016</td>\n",
       "      <td>4</td>\n",
       "      <td>10</td>\n",
       "      <td>Sarrià-Sant Gervasi</td>\n",
       "      <td>73</td>\n",
       "      <td>les Tres Torres</td>\n",
       "      <td>1692.20</td>\n",
       "    </tr>\n",
       "    <tr>\n",
       "      <th>Lloguer mitjà per superfície (Euros/m2 mes)</th>\n",
       "      <td>2016</td>\n",
       "      <td>4</td>\n",
       "      <td>10</td>\n",
       "      <td>Sarrià-Sant Gervasi</td>\n",
       "      <td>73</td>\n",
       "      <td>les Tres Torres</td>\n",
       "      <td>19.22</td>\n",
       "    </tr>\n",
       "    <tr>\n",
       "      <th>Lloguer mitjà mensual (Euros/mes)</th>\n",
       "      <td>2017</td>\n",
       "      <td>4</td>\n",
       "      <td>10</td>\n",
       "      <td>Sarrià-Sant Gervasi</td>\n",
       "      <td>73</td>\n",
       "      <td>les Tres Torres</td>\n",
       "      <td>1882.42</td>\n",
       "    </tr>\n",
       "    <tr>\n",
       "      <th>Lloguer mitjà per superfície (Euros/m2 mes)</th>\n",
       "      <td>2017</td>\n",
       "      <td>4</td>\n",
       "      <td>10</td>\n",
       "      <td>Sarrià-Sant Gervasi</td>\n",
       "      <td>73</td>\n",
       "      <td>les Tres Torres</td>\n",
       "      <td>20.61</td>\n",
       "    </tr>\n",
       "    <tr>\n",
       "      <th>Lloguer mitjà mensual (Euros/mes)</th>\n",
       "      <td>2018</td>\n",
       "      <td>4</td>\n",
       "      <td>10</td>\n",
       "      <td>Sarrià-Sant Gervasi</td>\n",
       "      <td>73</td>\n",
       "      <td>les Tres Torres</td>\n",
       "      <td>1849.52</td>\n",
       "    </tr>\n",
       "    <tr>\n",
       "      <th>Lloguer mitjà per superfície (Euros/m2 mes)</th>\n",
       "      <td>2018</td>\n",
       "      <td>4</td>\n",
       "      <td>10</td>\n",
       "      <td>Sarrià-Sant Gervasi</td>\n",
       "      <td>73</td>\n",
       "      <td>les Tres Torres</td>\n",
       "      <td>18.15</td>\n",
       "    </tr>\n",
       "    <tr>\n",
       "      <th>Lloguer mitjà mensual (Euros/mes)</th>\n",
       "      <td>2019</td>\n",
       "      <td>4</td>\n",
       "      <td>10</td>\n",
       "      <td>Sarrià-Sant Gervasi</td>\n",
       "      <td>73</td>\n",
       "      <td>les Tres Torres</td>\n",
       "      <td>2023.40</td>\n",
       "    </tr>\n",
       "    <tr>\n",
       "      <th>Lloguer mitjà per superfície (Euros/m2 mes)</th>\n",
       "      <td>2019</td>\n",
       "      <td>4</td>\n",
       "      <td>10</td>\n",
       "      <td>Sarrià-Sant Gervasi</td>\n",
       "      <td>73</td>\n",
       "      <td>les Tres Torres</td>\n",
       "      <td>18.50</td>\n",
       "    </tr>\n",
       "  </tbody>\n",
       "</table>\n",
       "</div>"
      ],
      "text/plain": [
       "                                              Any  Trimestre  Codi_Districte  \\\n",
       "Lloguer_mitja                                                                  \n",
       "Lloguer mitjà mensual (Euros/mes)            2014          4              10   \n",
       "Lloguer mitjà per superfície (Euros/m2 mes)  2014          4              10   \n",
       "Lloguer mitjà mensual (Euros/mes)            2015          4              10   \n",
       "Lloguer mitjà per superfície (Euros/m2 mes)  2015          4              10   \n",
       "Lloguer mitjà mensual (Euros/mes)            2016          4              10   \n",
       "Lloguer mitjà per superfície (Euros/m2 mes)  2016          4              10   \n",
       "Lloguer mitjà mensual (Euros/mes)            2017          4              10   \n",
       "Lloguer mitjà per superfície (Euros/m2 mes)  2017          4              10   \n",
       "Lloguer mitjà mensual (Euros/mes)            2018          4              10   \n",
       "Lloguer mitjà per superfície (Euros/m2 mes)  2018          4              10   \n",
       "Lloguer mitjà mensual (Euros/mes)            2019          4              10   \n",
       "Lloguer mitjà per superfície (Euros/m2 mes)  2019          4              10   \n",
       "\n",
       "                                                   Nom_Districte  Codi_Barri  \\\n",
       "Lloguer_mitja                                                                  \n",
       "Lloguer mitjà mensual (Euros/mes)            Sarrià-Sant Gervasi          73   \n",
       "Lloguer mitjà per superfície (Euros/m2 mes)  Sarrià-Sant Gervasi          73   \n",
       "Lloguer mitjà mensual (Euros/mes)            Sarrià-Sant Gervasi          73   \n",
       "Lloguer mitjà per superfície (Euros/m2 mes)  Sarrià-Sant Gervasi          73   \n",
       "Lloguer mitjà mensual (Euros/mes)            Sarrià-Sant Gervasi          73   \n",
       "Lloguer mitjà per superfície (Euros/m2 mes)  Sarrià-Sant Gervasi          73   \n",
       "Lloguer mitjà mensual (Euros/mes)            Sarrià-Sant Gervasi          73   \n",
       "Lloguer mitjà per superfície (Euros/m2 mes)  Sarrià-Sant Gervasi          73   \n",
       "Lloguer mitjà mensual (Euros/mes)            Sarrià-Sant Gervasi          73   \n",
       "Lloguer mitjà per superfície (Euros/m2 mes)  Sarrià-Sant Gervasi          73   \n",
       "Lloguer mitjà mensual (Euros/mes)            Sarrià-Sant Gervasi          73   \n",
       "Lloguer mitjà per superfície (Euros/m2 mes)  Sarrià-Sant Gervasi          73   \n",
       "\n",
       "                                                   Nom_Barri     Preu  \n",
       "Lloguer_mitja                                                          \n",
       "Lloguer mitjà mensual (Euros/mes)            les Tres Torres  1762.06  \n",
       "Lloguer mitjà per superfície (Euros/m2 mes)  les Tres Torres    16.14  \n",
       "Lloguer mitjà mensual (Euros/mes)            les Tres Torres  2034.00  \n",
       "Lloguer mitjà per superfície (Euros/m2 mes)  les Tres Torres    17.00  \n",
       "Lloguer mitjà mensual (Euros/mes)            les Tres Torres  1692.20  \n",
       "Lloguer mitjà per superfície (Euros/m2 mes)  les Tres Torres    19.22  \n",
       "Lloguer mitjà mensual (Euros/mes)            les Tres Torres  1882.42  \n",
       "Lloguer mitjà per superfície (Euros/m2 mes)  les Tres Torres    20.61  \n",
       "Lloguer mitjà mensual (Euros/mes)            les Tres Torres  1849.52  \n",
       "Lloguer mitjà per superfície (Euros/m2 mes)  les Tres Torres    18.15  \n",
       "Lloguer mitjà mensual (Euros/mes)            les Tres Torres  2023.40  \n",
       "Lloguer mitjà per superfície (Euros/m2 mes)  les Tres Torres    18.50  "
      ]
     },
     "execution_count": 32,
     "metadata": {},
     "output_type": "execute_result"
    }
   ],
   "source": [
    "maximum_rent"
   ]
  },
  {
   "cell_type": "code",
   "execution_count": 60,
   "metadata": {},
   "outputs": [],
   "source": [
    "a= df2014.groupby('Lloguer_mitja').min()"
   ]
  },
  {
   "cell_type": "code",
   "execution_count": 34,
   "metadata": {},
   "outputs": [],
   "source": [
    "b = df2015.groupby('Lloguer_mitja').min()"
   ]
  },
  {
   "cell_type": "code",
   "execution_count": 35,
   "metadata": {},
   "outputs": [],
   "source": [
    "c = df2016.groupby('Lloguer_mitja').min()"
   ]
  },
  {
   "cell_type": "code",
   "execution_count": 36,
   "metadata": {},
   "outputs": [],
   "source": [
    "d = df2017.groupby('Lloguer_mitja').min()"
   ]
  },
  {
   "cell_type": "code",
   "execution_count": 37,
   "metadata": {},
   "outputs": [],
   "source": [
    "e = df2018.groupby('Lloguer_mitja').min()"
   ]
  },
  {
   "cell_type": "code",
   "execution_count": 38,
   "metadata": {},
   "outputs": [],
   "source": [
    "f = df2019.groupby('Lloguer_mitja').min()"
   ]
  },
  {
   "cell_type": "code",
   "execution_count": 39,
   "metadata": {},
   "outputs": [
    {
     "data": {
      "text/html": [
       "<div>\n",
       "<style scoped>\n",
       "    .dataframe tbody tr th:only-of-type {\n",
       "        vertical-align: middle;\n",
       "    }\n",
       "\n",
       "    .dataframe tbody tr th {\n",
       "        vertical-align: top;\n",
       "    }\n",
       "\n",
       "    .dataframe thead th {\n",
       "        text-align: right;\n",
       "    }\n",
       "</style>\n",
       "<table border=\"1\" class=\"dataframe\">\n",
       "  <thead>\n",
       "    <tr style=\"text-align: right;\">\n",
       "      <th></th>\n",
       "      <th>Any</th>\n",
       "      <th>Trimestre</th>\n",
       "      <th>Codi_Districte</th>\n",
       "      <th>Nom_Districte</th>\n",
       "      <th>Codi_Barri</th>\n",
       "      <th>Nom_Barri</th>\n",
       "      <th>Preu</th>\n",
       "    </tr>\n",
       "    <tr>\n",
       "      <th>Lloguer_mitja</th>\n",
       "      <th></th>\n",
       "      <th></th>\n",
       "      <th></th>\n",
       "      <th></th>\n",
       "      <th></th>\n",
       "      <th></th>\n",
       "      <th></th>\n",
       "    </tr>\n",
       "  </thead>\n",
       "  <tbody>\n",
       "    <tr>\n",
       "      <th>Lloguer mitjà mensual (Euros/mes)</th>\n",
       "      <td>2014</td>\n",
       "      <td>1</td>\n",
       "      <td>1</td>\n",
       "      <td>Ciutat Vella</td>\n",
       "      <td>1</td>\n",
       "      <td>Baró de Viver</td>\n",
       "      <td>145.45</td>\n",
       "    </tr>\n",
       "    <tr>\n",
       "      <th>Lloguer mitjà per superfície (Euros/m2 mes)</th>\n",
       "      <td>2014</td>\n",
       "      <td>1</td>\n",
       "      <td>1</td>\n",
       "      <td>Ciutat Vella</td>\n",
       "      <td>1</td>\n",
       "      <td>Baró de Viver</td>\n",
       "      <td>3.54</td>\n",
       "    </tr>\n",
       "    <tr>\n",
       "      <th>Lloguer mitjà mensual (Euros/mes)</th>\n",
       "      <td>2015</td>\n",
       "      <td>1</td>\n",
       "      <td>1</td>\n",
       "      <td>Ciutat Vella</td>\n",
       "      <td>1</td>\n",
       "      <td>Baró de Viver</td>\n",
       "      <td>187.00</td>\n",
       "    </tr>\n",
       "    <tr>\n",
       "      <th>Lloguer mitjà per superfície (Euros/m2 mes)</th>\n",
       "      <td>2015</td>\n",
       "      <td>1</td>\n",
       "      <td>1</td>\n",
       "      <td>Ciutat Vella</td>\n",
       "      <td>1</td>\n",
       "      <td>Baró de Viver</td>\n",
       "      <td>4.00</td>\n",
       "    </tr>\n",
       "    <tr>\n",
       "      <th>Lloguer mitjà mensual (Euros/mes)</th>\n",
       "      <td>2016</td>\n",
       "      <td>1</td>\n",
       "      <td>1</td>\n",
       "      <td>Ciutat Vella</td>\n",
       "      <td>1</td>\n",
       "      <td>Baró de Viver</td>\n",
       "      <td>0.00</td>\n",
       "    </tr>\n",
       "    <tr>\n",
       "      <th>Lloguer mitjà per superfície (Euros/m2 mes)</th>\n",
       "      <td>2016</td>\n",
       "      <td>1</td>\n",
       "      <td>1</td>\n",
       "      <td>Ciutat Vella</td>\n",
       "      <td>1</td>\n",
       "      <td>Baró de Viver</td>\n",
       "      <td>3.18</td>\n",
       "    </tr>\n",
       "    <tr>\n",
       "      <th>Lloguer mitjà mensual (Euros/mes)</th>\n",
       "      <td>2017</td>\n",
       "      <td>1</td>\n",
       "      <td>1</td>\n",
       "      <td>Ciutat Vella</td>\n",
       "      <td>1</td>\n",
       "      <td>Baró de Viver</td>\n",
       "      <td>302.52</td>\n",
       "    </tr>\n",
       "    <tr>\n",
       "      <th>Lloguer mitjà per superfície (Euros/m2 mes)</th>\n",
       "      <td>2017</td>\n",
       "      <td>1</td>\n",
       "      <td>1</td>\n",
       "      <td>Ciutat Vella</td>\n",
       "      <td>1</td>\n",
       "      <td>Baró de Viver</td>\n",
       "      <td>4.45</td>\n",
       "    </tr>\n",
       "    <tr>\n",
       "      <th>Lloguer mitjà mensual (Euros/mes)</th>\n",
       "      <td>2018</td>\n",
       "      <td>1</td>\n",
       "      <td>1</td>\n",
       "      <td>Ciutat Vella</td>\n",
       "      <td>1</td>\n",
       "      <td>Baró de Viver</td>\n",
       "      <td>434.52</td>\n",
       "    </tr>\n",
       "    <tr>\n",
       "      <th>Lloguer mitjà per superfície (Euros/m2 mes)</th>\n",
       "      <td>2018</td>\n",
       "      <td>1</td>\n",
       "      <td>1</td>\n",
       "      <td>Ciutat Vella</td>\n",
       "      <td>1</td>\n",
       "      <td>Baró de Viver</td>\n",
       "      <td>7.22</td>\n",
       "    </tr>\n",
       "    <tr>\n",
       "      <th>Lloguer mitjà mensual (Euros/mes)</th>\n",
       "      <td>2019</td>\n",
       "      <td>1</td>\n",
       "      <td>1</td>\n",
       "      <td>Ciutat Vella</td>\n",
       "      <td>1</td>\n",
       "      <td>Baró de Viver</td>\n",
       "      <td>350.50</td>\n",
       "    </tr>\n",
       "    <tr>\n",
       "      <th>Lloguer mitjà per superfície (Euros/m2 mes)</th>\n",
       "      <td>2019</td>\n",
       "      <td>1</td>\n",
       "      <td>1</td>\n",
       "      <td>Ciutat Vella</td>\n",
       "      <td>1</td>\n",
       "      <td>Baró de Viver</td>\n",
       "      <td>7.10</td>\n",
       "    </tr>\n",
       "  </tbody>\n",
       "</table>\n",
       "</div>"
      ],
      "text/plain": [
       "                                              Any  Trimestre  Codi_Districte  \\\n",
       "Lloguer_mitja                                                                  \n",
       "Lloguer mitjà mensual (Euros/mes)            2014          1               1   \n",
       "Lloguer mitjà per superfície (Euros/m2 mes)  2014          1               1   \n",
       "Lloguer mitjà mensual (Euros/mes)            2015          1               1   \n",
       "Lloguer mitjà per superfície (Euros/m2 mes)  2015          1               1   \n",
       "Lloguer mitjà mensual (Euros/mes)            2016          1               1   \n",
       "Lloguer mitjà per superfície (Euros/m2 mes)  2016          1               1   \n",
       "Lloguer mitjà mensual (Euros/mes)            2017          1               1   \n",
       "Lloguer mitjà per superfície (Euros/m2 mes)  2017          1               1   \n",
       "Lloguer mitjà mensual (Euros/mes)            2018          1               1   \n",
       "Lloguer mitjà per superfície (Euros/m2 mes)  2018          1               1   \n",
       "Lloguer mitjà mensual (Euros/mes)            2019          1               1   \n",
       "Lloguer mitjà per superfície (Euros/m2 mes)  2019          1               1   \n",
       "\n",
       "                                            Nom_Districte  Codi_Barri  \\\n",
       "Lloguer_mitja                                                           \n",
       "Lloguer mitjà mensual (Euros/mes)            Ciutat Vella           1   \n",
       "Lloguer mitjà per superfície (Euros/m2 mes)  Ciutat Vella           1   \n",
       "Lloguer mitjà mensual (Euros/mes)            Ciutat Vella           1   \n",
       "Lloguer mitjà per superfície (Euros/m2 mes)  Ciutat Vella           1   \n",
       "Lloguer mitjà mensual (Euros/mes)            Ciutat Vella           1   \n",
       "Lloguer mitjà per superfície (Euros/m2 mes)  Ciutat Vella           1   \n",
       "Lloguer mitjà mensual (Euros/mes)            Ciutat Vella           1   \n",
       "Lloguer mitjà per superfície (Euros/m2 mes)  Ciutat Vella           1   \n",
       "Lloguer mitjà mensual (Euros/mes)            Ciutat Vella           1   \n",
       "Lloguer mitjà per superfície (Euros/m2 mes)  Ciutat Vella           1   \n",
       "Lloguer mitjà mensual (Euros/mes)            Ciutat Vella           1   \n",
       "Lloguer mitjà per superfície (Euros/m2 mes)  Ciutat Vella           1   \n",
       "\n",
       "                                                 Nom_Barri    Preu  \n",
       "Lloguer_mitja                                                       \n",
       "Lloguer mitjà mensual (Euros/mes)            Baró de Viver  145.45  \n",
       "Lloguer mitjà per superfície (Euros/m2 mes)  Baró de Viver    3.54  \n",
       "Lloguer mitjà mensual (Euros/mes)            Baró de Viver  187.00  \n",
       "Lloguer mitjà per superfície (Euros/m2 mes)  Baró de Viver    4.00  \n",
       "Lloguer mitjà mensual (Euros/mes)            Baró de Viver    0.00  \n",
       "Lloguer mitjà per superfície (Euros/m2 mes)  Baró de Viver    3.18  \n",
       "Lloguer mitjà mensual (Euros/mes)            Baró de Viver  302.52  \n",
       "Lloguer mitjà per superfície (Euros/m2 mes)  Baró de Viver    4.45  \n",
       "Lloguer mitjà mensual (Euros/mes)            Baró de Viver  434.52  \n",
       "Lloguer mitjà per superfície (Euros/m2 mes)  Baró de Viver    7.22  \n",
       "Lloguer mitjà mensual (Euros/mes)            Baró de Viver  350.50  \n",
       "Lloguer mitjà per superfície (Euros/m2 mes)  Baró de Viver    7.10  "
      ]
     },
     "execution_count": 39,
     "metadata": {},
     "output_type": "execute_result"
    }
   ],
   "source": [
    "minimum_rent = pd.concat([a,b,c,d,e,f])\n",
    "minimum_rent"
   ]
  },
  {
   "cell_type": "code",
   "execution_count": 53,
   "metadata": {},
   "outputs": [
    {
     "data": {
      "text/plain": [
       "661.639047619047"
      ]
     },
     "execution_count": 53,
     "metadata": {},
     "output_type": "execute_result"
    }
   ],
   "source": [
    "df2014.loc[df2014.Lloguer_mitja=='Lloguer mitjà mensual (Euros/mes)']['Preu'].mean()"
   ]
  },
  {
   "cell_type": "code",
   "execution_count": 54,
   "metadata": {},
   "outputs": [
    {
     "data": {
      "text/plain": [
       "9.726776556776557"
      ]
     },
     "execution_count": 54,
     "metadata": {},
     "output_type": "execute_result"
    }
   ],
   "source": [
    "df2014.loc[df2014.Lloguer_mitja=='Lloguer mitjà per superfície (Euros/m2 mes)']['Preu'].mean()"
   ]
  },
  {
   "cell_type": "code",
   "execution_count": 61,
   "metadata": {},
   "outputs": [
    {
     "data": {
      "text/plain": [
       "1762.06"
      ]
     },
     "execution_count": 61,
     "metadata": {},
     "output_type": "execute_result"
    }
   ],
   "source": [
    "df2014.loc[df2014.Lloguer_mitja=='Lloguer mitjà mensual (Euros/mes)']['Preu'].max()"
   ]
  },
  {
   "cell_type": "code",
   "execution_count": 62,
   "metadata": {},
   "outputs": [
    {
     "data": {
      "text/plain": [
       "145.45"
      ]
     },
     "execution_count": 62,
     "metadata": {},
     "output_type": "execute_result"
    }
   ],
   "source": [
    "df2014.loc[df2014.Lloguer_mitja=='Lloguer mitjà mensual (Euros/mes)']['Preu'].min()"
   ]
  },
  {
   "cell_type": "code",
   "execution_count": null,
   "metadata": {},
   "outputs": [],
   "source": []
  }
 ],
 "metadata": {
  "kernelspec": {
   "display_name": "Python 3",
   "language": "python",
   "name": "python3"
  },
  "language_info": {
   "codemirror_mode": {
    "name": "ipython",
    "version": 3
   },
   "file_extension": ".py",
   "mimetype": "text/x-python",
   "name": "python",
   "nbconvert_exporter": "python",
   "pygments_lexer": "ipython3",
   "version": "3.7.3"
  }
 },
 "nbformat": 4,
 "nbformat_minor": 4
}
